{
 "cells": [
  {
   "cell_type": "markdown",
   "id": "5d97c9f6-2a7f-4535-88cd-d9179fa3fcf0",
   "metadata": {},
   "source": [
    "# Nitrogen Management for Wastewater Treatment\n",
    "\n",
    "## Stantec Water Institute\n",
    "\n",
    "### Description: This app. does blah blah blah\n",
    "\n",
    "- Contributors\n",
    "  - Mark Bartlett\n",
    "  - Sanaz Imen\n",
    "  - Mehran Andalibd"
   ]
  },
  {
   "cell_type": "markdown",
   "id": "6c8775fb-0392-4536-b568-5b389b3744af",
   "metadata": {},
   "source": [
    "#### Dash Install Reference for Jupyter (DO not delete)"
   ]
  },
  {
   "cell_type": "code",
   "execution_count": 1,
   "id": "d70c9b86-311d-4069-8c85-eb54e846b099",
   "metadata": {},
   "outputs": [],
   "source": [
    "# https://stackoverflow.com/questions/45490002/how-to-use-dash-within-jupyter-notebook-or-jupyterlab\n",
    "\n",
    "# https://medium.com/plotly/introducing-jupyterdash-811f1f57c02e\n",
    "# https://stackoverflow.com/questions/45490002/how-to-use-dash-within-jupyter-notebook-or-jupyterlab\n",
    "# https://community.plotly.com/t/can-i-run-dash-app-in-jupyter/5235/3\n",
    "\n",
    "# Running Dash online\n",
    "# https://github.com/gwrun/tutorials/tree/main/plotly-dash/docker-compose\n",
    "# https://www.datacamp.com/community/tutorials/learn-build-dash-python\n",
    "\n",
    "# ssh for jupyter remote\n",
    "# https://www.concurrency.com/blog/may-2019/key-based-authentication-for-openssh-on-windows\n",
    "# https://superuser.com/questions/1433917/windows-10-ssh-client-password-less-access"
   ]
  },
  {
   "cell_type": "markdown",
   "id": "541cebf7-276b-4694-a9c3-aeb2c8cbfd6f",
   "metadata": {},
   "source": [
    "#### Load Libraries"
   ]
  },
  {
   "cell_type": "code",
   "execution_count": 1,
   "id": "c796f48a-6dfa-48a1-898c-8696658b7ce9",
   "metadata": {},
   "outputs": [],
   "source": [
    "from jupyter_dash import JupyterDash"
   ]
  },
  {
   "cell_type": "code",
   "execution_count": 2,
   "id": "c96bba2b-d604-4b28-8678-02b04f1178c0",
   "metadata": {},
   "outputs": [],
   "source": [
    "%load_ext autoreload\n",
    "%autoreload 2\n",
    "import warnings\n",
    "\n",
    "import dash\n",
    "import dash_core_components as dcc\n",
    "import dash_html_components as html\n",
    "import pandas as pd\n",
    "from IPython.display import IFrame\n",
    "from sidecar import Sidecar\n",
    "\n",
    "warnings.filterwarnings(\"ignore\");"
   ]
  },
  {
   "cell_type": "code",
   "execution_count": null,
   "id": "5e2c5312-0c42-46ae-8ad7-9de7ae1ce013",
   "metadata": {},
   "outputs": [],
   "source": [
    "# JupyterDash.infer_jupyter_proxy_config()"
   ]
  },
  {
   "cell_type": "raw",
   "id": "0a1578f2-974a-4dfd-a802-57fe972cb17b",
   "metadata": {},
   "source": [
    "#not used\n",
    "!jupyter labextension list"
   ]
  },
  {
   "cell_type": "markdown",
   "id": "55844e90-f43e-41a6-a188-eeecb7a6b11b",
   "metadata": {},
   "source": [
    "### Download some Data"
   ]
  },
  {
   "cell_type": "code",
   "execution_count": 3,
   "id": "3dda3508-5cdb-496c-82f5-14f5ace2cd37",
   "metadata": {},
   "outputs": [],
   "source": [
    "df = pd.read_csv(\"https://plotly.github.io/datasets/country_indicators.csv\")\n",
    "available_indicators = df[\"Indicator Name\"].unique()"
   ]
  },
  {
   "cell_type": "code",
   "execution_count": 3,
   "id": "be391f08-50b6-4548-ba38-b20337902cec",
   "metadata": {},
   "outputs": [],
   "source": [
    "pd.d"
   ]
  },
  {
   "cell_type": "code",
   "execution_count": 13,
   "id": "dfe82921-6c87-4caf-981d-610355bca1ff",
   "metadata": {},
   "outputs": [],
   "source": [
    "def test(a):\n",
    "    print(a)"
   ]
  },
  {
   "cell_type": "code",
   "execution_count": 14,
   "id": "ce8c5c80-5b06-4694-9215-e216d4b35cca",
   "metadata": {},
   "outputs": [
    {
     "name": "stdout",
     "output_type": "stream",
     "text": [
      "1\n"
     ]
    }
   ],
   "source": [
    "test(1)"
   ]
  },
  {
   "cell_type": "markdown",
   "id": "1fcad1be-3150-4fa3-a8cd-230a26d56f60",
   "metadata": {},
   "source": [
    "## Dash Application Code"
   ]
  },
  {
   "cell_type": "code",
   "execution_count": 4,
   "id": "a11ccdbe-84e8-46f9-b33e-2a110d912bf7",
   "metadata": {},
   "outputs": [],
   "source": [
    "external_stylesheets = [\"https://codepen.io/chriddyp/pen/bWLwgP.css\"]\n",
    "\n",
    "app = JupyterDash(__name__, external_stylesheets=external_stylesheets)\n",
    "\n",
    "# Create server variable with Flask server object for use with gunicorn\n",
    "server = app.server\n",
    "\n",
    "app.layout = html.Div(\n",
    "    [\n",
    "        html.Div(\n",
    "            [\n",
    "                html.Div(\n",
    "                    [\n",
    "                        dcc.Dropdown(\n",
    "                            id=\"crossfilter-xaxis-column\",\n",
    "                            options=[\n",
    "                                {\"label\": i, \"value\": i} for i in available_indicators\n",
    "                            ],\n",
    "                            value=\"Fertility rate, total (births per woman)\",\n",
    "                        ),\n",
    "                        dcc.RadioItems(\n",
    "                            id=\"crossfilter-xaxis-type\",\n",
    "                            options=[\n",
    "                                {\"label\": i, \"value\": i} for i in [\"Linear\", \"Log\"]\n",
    "                            ],\n",
    "                            value=\"Linear\",\n",
    "                            labelStyle={\"display\": \"inline-block\"},\n",
    "                        ),\n",
    "                    ],\n",
    "                    style={\"width\": \"49%\", \"display\": \"inline-block\"},\n",
    "                ),\n",
    "                html.Div(\n",
    "                    [\n",
    "                        dcc.Dropdown(\n",
    "                            id=\"crossfilter-yaxis-column\",\n",
    "                            options=[\n",
    "                                {\"label\": i, \"value\": i} for i in available_indicators\n",
    "                            ],\n",
    "                            value=\"Life expectancy at birth, total (years)\",\n",
    "                        ),\n",
    "                        dcc.RadioItems(\n",
    "                            id=\"crossfilter-yaxis-type\",\n",
    "                            options=[\n",
    "                                {\"label\": i, \"value\": i} for i in [\"Linear\", \"Log\"]\n",
    "                            ],\n",
    "                            value=\"Linear\",\n",
    "                            labelStyle={\"display\": \"inline-block\"},\n",
    "                        ),\n",
    "                    ],\n",
    "                    style={\"width\": \"49%\", \"float\": \"right\", \"display\": \"inline-block\"},\n",
    "                ),\n",
    "            ],\n",
    "            style={\n",
    "                \"borderBottom\": \"thin lightgrey solid\",\n",
    "                \"backgroundColor\": \"rgb(250, 250, 250)\",\n",
    "                \"padding\": \"10px 5px\",\n",
    "            },\n",
    "        ),\n",
    "        html.Div(\n",
    "            [\n",
    "                dcc.Graph(\n",
    "                    id=\"crossfilter-indicator-scatter\",\n",
    "                    hoverData={\"points\": [{\"customdata\": \"Japan\"}]},\n",
    "                )\n",
    "            ],\n",
    "            style={\"width\": \"49%\", \"display\": \"inline-block\", \"padding\": \"0 20\"},\n",
    "        ),\n",
    "        html.Div(\n",
    "            [\n",
    "                dcc.Graph(id=\"x-time-series\"),\n",
    "                dcc.Graph(id=\"y-time-series\"),\n",
    "            ],\n",
    "            style={\"display\": \"inline-block\", \"width\": \"49%\"},\n",
    "        ),\n",
    "        html.Div(\n",
    "            dcc.Slider(\n",
    "                id=\"crossfilter-year--slider\",\n",
    "                min=df[\"Year\"].min(),\n",
    "                max=df[\"Year\"].max(),\n",
    "                value=df[\"Year\"].max(),\n",
    "                marks={str(year): str(year) for year in df[\"Year\"].unique()},\n",
    "                step=None,\n",
    "            ),\n",
    "            style={\"width\": \"49%\", \"padding\": \"0px 20px 20px 20px\"},\n",
    "        ),\n",
    "    ]\n",
    ")\n",
    "\n",
    "\n",
    "@app.callback(\n",
    "    dash.dependencies.Output(\"crossfilter-indicator-scatter\", \"figure\"),\n",
    "    [\n",
    "        dash.dependencies.Input(\"crossfilter-xaxis-column\", \"value\"),\n",
    "        dash.dependencies.Input(\"crossfilter-yaxis-column\", \"value\"),\n",
    "        dash.dependencies.Input(\"crossfilter-xaxis-type\", \"value\"),\n",
    "        dash.dependencies.Input(\"crossfilter-yaxis-type\", \"value\"),\n",
    "        dash.dependencies.Input(\"crossfilter-year--slider\", \"value\"),\n",
    "    ],\n",
    ")\n",
    "def update_graph(\n",
    "    xaxis_column_name, yaxis_column_name, xaxis_type, yaxis_type, year_value\n",
    "):\n",
    "    dff = df[df[\"Year\"] == year_value]\n",
    "\n",
    "    return {\n",
    "        \"data\": [\n",
    "            dict(\n",
    "                x=dff[dff[\"Indicator Name\"] == xaxis_column_name][\"Value\"],\n",
    "                y=dff[dff[\"Indicator Name\"] == yaxis_column_name][\"Value\"],\n",
    "                text=dff[dff[\"Indicator Name\"] == yaxis_column_name][\"Country Name\"],\n",
    "                customdata=dff[dff[\"Indicator Name\"] == yaxis_column_name][\n",
    "                    \"Country Name\"\n",
    "                ],\n",
    "                mode=\"markers\",\n",
    "                marker={\n",
    "                    \"size\": 25,\n",
    "                    \"opacity\": 0.7,\n",
    "                    \"color\": \"orange\",\n",
    "                    \"line\": {\"width\": 2, \"color\": \"purple\"},\n",
    "                },\n",
    "            )\n",
    "        ],\n",
    "        \"layout\": dict(\n",
    "            xaxis={\n",
    "                \"title\": xaxis_column_name,\n",
    "                \"type\": \"linear\" if xaxis_type == \"Linear\" else \"log\",\n",
    "            },\n",
    "            yaxis={\n",
    "                \"title\": yaxis_column_name,\n",
    "                \"type\": \"linear\" if yaxis_type == \"Linear\" else \"log\",\n",
    "            },\n",
    "            margin={\"l\": 40, \"b\": 30, \"t\": 10, \"r\": 0},\n",
    "            height=450,\n",
    "            hovermode=\"closest\",\n",
    "        ),\n",
    "    }\n",
    "\n",
    "\n",
    "def create_time_series(dff, axis_type, title):\n",
    "    return {\n",
    "        \"data\": [dict(x=dff[\"Year\"], y=dff[\"Value\"], mode=\"lines+markers\")],\n",
    "        \"layout\": {\n",
    "            \"height\": 225,\n",
    "            \"margin\": {\"l\": 20, \"b\": 30, \"r\": 10, \"t\": 10},\n",
    "            \"annotations\": [\n",
    "                {\n",
    "                    \"x\": 0,\n",
    "                    \"y\": 0.85,\n",
    "                    \"xanchor\": \"left\",\n",
    "                    \"yanchor\": \"bottom\",\n",
    "                    \"xref\": \"paper\",\n",
    "                    \"yref\": \"paper\",\n",
    "                    \"showarrow\": False,\n",
    "                    \"align\": \"left\",\n",
    "                    \"bgcolor\": \"rgba(255, 255, 255, 0.5)\",\n",
    "                    \"text\": title,\n",
    "                }\n",
    "            ],\n",
    "            \"yaxis\": {\"type\": \"linear\" if axis_type == \"Linear\" else \"log\"},\n",
    "            \"xaxis\": {\"showgrid\": False},\n",
    "        },\n",
    "    }\n",
    "\n",
    "\n",
    "@app.callback(\n",
    "    dash.dependencies.Output(\"x-time-series\", \"figure\"),\n",
    "    [\n",
    "        dash.dependencies.Input(\"crossfilter-indicator-scatter\", \"hoverData\"),\n",
    "        dash.dependencies.Input(\"crossfilter-xaxis-column\", \"value\"),\n",
    "        dash.dependencies.Input(\"crossfilter-xaxis-type\", \"value\"),\n",
    "    ],\n",
    ")\n",
    "def update_y_timeseries(hoverData, xaxis_column_name, axis_type):\n",
    "    country_name = hoverData[\"points\"][0][\"customdata\"]\n",
    "    dff = df[df[\"Country Name\"] == country_name]\n",
    "    dff = dff[dff[\"Indicator Name\"] == xaxis_column_name]\n",
    "    title = \"<b>{}</b><br>{}\".format(country_name, xaxis_column_name)\n",
    "    return create_time_series(dff, axis_type, title)\n",
    "\n",
    "\n",
    "@app.callback(\n",
    "    dash.dependencies.Output(\"y-time-series\", \"figure\"),\n",
    "    [\n",
    "        dash.dependencies.Input(\"crossfilter-indicator-scatter\", \"hoverData\"),\n",
    "        dash.dependencies.Input(\"crossfilter-yaxis-column\", \"value\"),\n",
    "        dash.dependencies.Input(\"crossfilter-yaxis-type\", \"value\"),\n",
    "    ],\n",
    ")\n",
    "def update_x_timeseries(hoverData, yaxis_column_name, axis_type):\n",
    "    dff = df[df[\"Country Name\"] == hoverData[\"points\"][0][\"customdata\"]]\n",
    "    dff = dff[dff[\"Indicator Name\"] == yaxis_column_name]\n",
    "    return create_time_series(dff, axis_type, yaxis_column_name)"
   ]
  },
  {
   "cell_type": "code",
   "execution_count": 5,
   "id": "735784c1-bd6e-4c39-a05e-e8513db54a7f",
   "metadata": {},
   "outputs": [
    {
     "data": {
      "text/plain": [
       "['172.22.0.3']"
      ]
     },
     "execution_count": 5,
     "metadata": {},
     "output_type": "execute_result"
    }
   ],
   "source": [
    "# Find the IP Addres of the Container\n",
    "Container_IP = !awk 'END{print $1}' /etc/hosts\n",
    "Container_IP"
   ]
  },
  {
   "cell_type": "markdown",
   "id": "82334a90-be2a-4ab1-b257-f36b009aca80",
   "metadata": {},
   "source": [
    "### Run the Dash Application for Development\n",
    "- Change the host to '0.0.0.0' to broadcast outside of the network\n",
    "- Otherwise set the host equatl to Container_IP[0] to develop within JupyterLab"
   ]
  },
  {
   "cell_type": "code",
   "execution_count": 6,
   "id": "078571d0-e41b-4f0a-917c-619dc02c0023",
   "metadata": {
    "tags": []
   },
   "outputs": [
    {
     "name": "stdout",
     "output_type": "stream",
     "text": [
      "Dash app running on http://0.0.0.0:8050/\n"
     ]
    }
   ],
   "source": [
    "app.run_server(\n",
    "    host=\"0.0.0.0\",\n",
    "    debug=True,\n",
    "    port=8050,\n",
    "    dev_tools_ui=True,\n",
    "    dev_tools_hot_reload=True,\n",
    "    threaded=True,\n",
    ")\n",
    "# Go to Localhost:8050"
   ]
  },
  {
   "cell_type": "raw",
   "id": "33dd0dab-8cd5-42b7-bd13-f9f45fa20e52",
   "metadata": {},
   "source": [
    "app.run_server(mode=\"jupyterlab\",host='127.0.0.1',debug=False, port = 81)"
   ]
  },
  {
   "cell_type": "code",
   "execution_count": null,
   "id": "ea052c11-eec6-4f5e-914b-e91a216a8de1",
   "metadata": {},
   "outputs": [],
   "source": [
    "# '127.0.0.1'\n",
    "# https://github.com/plotly/jupyter-dash/issues/43\n",
    "# https://pythonspeed.com/articles/docker-connection-refused/"
   ]
  },
  {
   "cell_type": "code",
   "execution_count": 11,
   "id": "bb0da83f-5d57-4b55-a436-85c56d933ea8",
   "metadata": {},
   "outputs": [],
   "source": [
    "# https://github.com/plotly/jupyter-dash/issues/16"
   ]
  },
  {
   "cell_type": "code",
   "execution_count": 7,
   "id": "beb2bc08-47f5-4052-81a3-873c30cc9d85",
   "metadata": {},
   "outputs": [],
   "source": [
    "frame1 = IFrame(src=\"http://173.72.1.194:81\", width=\"100%\", height=\"500px\")\n",
    "sc = Sidecar(title=\"Dashboard\")\n",
    "with sc:\n",
    "    display(frame1)"
   ]
  },
  {
   "cell_type": "markdown",
   "id": "d0f9f14a-cff0-4b62-be5d-ffe8355af7a0",
   "metadata": {},
   "source": [
    "# Original Code from Mehran\n"
   ]
  },
  {
   "cell_type": "code",
   "execution_count": 7,
   "id": "7cb1a1f0-ae70-43a1-b837-0ef608fb0dca",
   "metadata": {},
   "outputs": [],
   "source": [
    "import os\n",
    "import pathlib as pl\n",
    "\n",
    "import matplotlib.pyplot as plt\n",
    "import pandas as pd\n",
    "import pylab\n",
    "import seaborn as sns\n",
    "from mpl_toolkits.mplot3d import Axes3D\n",
    "\n",
    "root_dir = pl.Path(os.getcwd())"
   ]
  },
  {
   "cell_type": "code",
   "execution_count": 22,
   "id": "ba8206f1-17a2-4f58-a994-f9748a9d9da8",
   "metadata": {},
   "outputs": [
    {
     "data": {
      "text/plain": [
       "PosixPath('/home/jovyan/work/data/processed')"
      ]
     },
     "execution_count": 22,
     "metadata": {},
     "output_type": "execute_result"
    }
   ],
   "source": [
    "root_dir.parent / \"data/processed\""
   ]
  },
  {
   "cell_type": "code",
   "execution_count": 14,
   "id": "f3cd8c48-a3c8-41a0-967b-5dd1bd206302",
   "metadata": {},
   "outputs": [
    {
     "name": "stdin",
     "output_type": "stream",
     "text": [
      "what is your process (4stage or MLE): MLE\n"
     ]
    }
   ],
   "source": [
    "process = input(\"what is your process (4stage or MLE):\")"
   ]
  },
  {
   "cell_type": "code",
   "execution_count": 23,
   "id": "14812934-4492-4dd4-8fa2-c5dd18a5552f",
   "metadata": {},
   "outputs": [],
   "source": [
    "dataframe1 = root_dir.parent / \"data/processed\" / \"mle-med-ww-strength-20c.csv\"\n",
    "dataframe2 = root_dir.parent / \"data/processed\" / \"4stage-med-ww-strength-20c.csv\""
   ]
  },
  {
   "cell_type": "code",
   "execution_count": 15,
   "id": "2c05d38d-d928-4787-b44f-312d381005ef",
   "metadata": {},
   "outputs": [],
   "source": [
    "process = \"mle\""
   ]
  },
  {
   "cell_type": "code",
   "execution_count": 24,
   "id": "c93445d9-0eb0-4e34-855d-1d562ebe6681",
   "metadata": {},
   "outputs": [],
   "source": [
    "for file in os.listdir(root_dir):\n",
    "    if process in file:\n",
    "        print(os.path.join(\"/mydir\", file))\n",
    "        print(\"You Are Evaluating a \" + process + \"  process\")\n",
    "        dataframe1 = file"
   ]
  },
  {
   "cell_type": "code",
   "execution_count": 25,
   "id": "19fdd57a-6e5b-40d8-b3c5-a4f494e18809",
   "metadata": {},
   "outputs": [],
   "source": [
    "for file in os.listdir(root_dir):\n",
    "    if \".csv\" in file:\n",
    "        #        print(os.path.join(\"/mydir\", file))\n",
    "        #        print(\"You Are Evaluating a \" + process + \"  process\")\n",
    "        dataframe1 = file"
   ]
  },
  {
   "cell_type": "code",
   "execution_count": 36,
   "id": "6e0b8011-3c40-478c-a735-f9d9c4fde3de",
   "metadata": {},
   "outputs": [
    {
     "data": {
      "text/html": [
       "<div>\n",
       "<style scoped>\n",
       "    .dataframe tbody tr th:only-of-type {\n",
       "        vertical-align: middle;\n",
       "    }\n",
       "\n",
       "    .dataframe tbody tr th {\n",
       "        vertical-align: top;\n",
       "    }\n",
       "\n",
       "    .dataframe thead th {\n",
       "        text-align: right;\n",
       "    }\n",
       "</style>\n",
       "<table border=\"1\" class=\"dataframe\">\n",
       "  <thead>\n",
       "    <tr style=\"text-align: right;\">\n",
       "      <th></th>\n",
       "      <th>X</th>\n",
       "      <th>Y</th>\n",
       "      <th>Z</th>\n",
       "    </tr>\n",
       "  </thead>\n",
       "  <tbody>\n",
       "    <tr>\n",
       "      <th>0</th>\n",
       "      <td>5</td>\n",
       "      <td>6.250</td>\n",
       "      <td>10.360</td>\n",
       "    </tr>\n",
       "    <tr>\n",
       "      <th>1</th>\n",
       "      <td>5</td>\n",
       "      <td>6.375</td>\n",
       "      <td>10.200</td>\n",
       "    </tr>\n",
       "    <tr>\n",
       "      <th>2</th>\n",
       "      <td>5</td>\n",
       "      <td>6.500</td>\n",
       "      <td>9.760</td>\n",
       "    </tr>\n",
       "    <tr>\n",
       "      <th>3</th>\n",
       "      <td>5</td>\n",
       "      <td>6.625</td>\n",
       "      <td>9.540</td>\n",
       "    </tr>\n",
       "    <tr>\n",
       "      <th>4</th>\n",
       "      <td>5</td>\n",
       "      <td>6.750</td>\n",
       "      <td>9.240</td>\n",
       "    </tr>\n",
       "    <tr>\n",
       "      <th>...</th>\n",
       "      <td>...</td>\n",
       "      <td>...</td>\n",
       "      <td>...</td>\n",
       "    </tr>\n",
       "    <tr>\n",
       "      <th>776</th>\n",
       "      <td>15</td>\n",
       "      <td>14.500</td>\n",
       "      <td>4.653</td>\n",
       "    </tr>\n",
       "    <tr>\n",
       "      <th>777</th>\n",
       "      <td>15</td>\n",
       "      <td>14.625</td>\n",
       "      <td>4.618</td>\n",
       "    </tr>\n",
       "    <tr>\n",
       "      <th>778</th>\n",
       "      <td>15</td>\n",
       "      <td>14.750</td>\n",
       "      <td>4.584</td>\n",
       "    </tr>\n",
       "    <tr>\n",
       "      <th>779</th>\n",
       "      <td>15</td>\n",
       "      <td>14.875</td>\n",
       "      <td>4.540</td>\n",
       "    </tr>\n",
       "    <tr>\n",
       "      <th>780</th>\n",
       "      <td>15</td>\n",
       "      <td>15.000</td>\n",
       "      <td>4.503</td>\n",
       "    </tr>\n",
       "  </tbody>\n",
       "</table>\n",
       "<p>781 rows × 3 columns</p>\n",
       "</div>"
      ],
      "text/plain": [
       "      X       Y       Z\n",
       "0     5   6.250  10.360\n",
       "1     5   6.375  10.200\n",
       "2     5   6.500   9.760\n",
       "3     5   6.625   9.540\n",
       "4     5   6.750   9.240\n",
       "..   ..     ...     ...\n",
       "776  15  14.500   4.653\n",
       "777  15  14.625   4.618\n",
       "778  15  14.750   4.584\n",
       "779  15  14.875   4.540\n",
       "780  15  15.000   4.503\n",
       "\n",
       "[781 rows x 3 columns]"
      ]
     },
     "execution_count": 36,
     "metadata": {},
     "output_type": "execute_result"
    }
   ],
   "source": [
    "df = pd.read_csv(dataframe1)\n",
    "df"
   ]
  },
  {
   "cell_type": "code",
   "execution_count": 27,
   "id": "39e46ee3-55c8-4041-93fe-52b86733e431",
   "metadata": {},
   "outputs": [
    {
     "data": {
      "image/png": "[encoded data removed]",
      "text/plain": [
       "<Figure size 432x288 with 2 Axes>"
      ]
     },
     "metadata": {
      "needs_background": "light"
     },
     "output_type": "display_data"
    }
   ],
   "source": [
    "fig = plt.figure()\n",
    "ax = fig.gca(projection=\"3d\")\n",
    "surf = ax.plot_trisurf(df[\"Y\"], df[\"X\"], df[\"Z\"], cmap=plt.cm.jet, linewidth=0.1)\n",
    "fig.colorbar(surf, shrink=0.5, aspect=5)\n",
    "\n",
    "font1 = {\"family\": \"serif\", \"color\": \"black\", \"size\": 14}\n",
    "font2 = {\"family\": \"serif\", \"color\": \"black\", \"size\": 12}\n",
    "\n",
    "ax.set_xlabel(\"SRT[d]\", fontdict=font2)\n",
    "ax.set_ylabel(\"COD/N\", fontdict=font2)\n",
    "ax.set_zlabel(\"TIN[mgN/L]\", fontdict=font2)\n",
    "\n",
    "# ax.set(xlim=(5,15), ylim=(5,15), zlim=(5,11))\n",
    "if process == \"MLE\":\n",
    "    plt.title(\"MLE MWW 20C\", fontdict=font1)\n",
    "else:\n",
    "    plt.title(\"4-Stage MWW 20C\", fontdict=font1)\n",
    "\n",
    "# Set the angle of the camera and rotate\n",
    "ax.view_init(30, 70)\n",
    "plt.show()"
   ]
  },
  {
   "cell_type": "code",
   "execution_count": 52,
   "id": "fe3028a6-a379-41d0-95f4-e2594c5bbc0a",
   "metadata": {},
   "outputs": [],
   "source": [
    "len(df.X.unique())\n",
    "len(df.Y.unique())\n",
    "df.Z.shape\n",
    "df.X.unique()"
   ]
  },
  {
   "cell_type": "code",
   "execution_count": 51,
   "id": "8b269e4b-05d6-433c-b83d-37e513ce7010",
   "metadata": {},
   "outputs": [
    {
     "data": {
      "text/plain": [
       "array([ 6.25 ,  6.375,  6.5  ,  6.625,  6.75 ,  6.875,  7.   ,  7.125,\n",
       "        7.25 ,  7.375,  7.5  ,  7.625,  7.75 ,  7.875,  8.   ,  8.125,\n",
       "        8.25 ,  8.375,  8.5  ,  8.625,  8.75 ,  8.875,  9.   ,  9.125,\n",
       "        9.25 ,  9.375,  9.5  ,  9.625,  9.75 ,  9.875, 10.   , 10.125,\n",
       "       10.25 , 10.375, 10.5  , 10.625, 10.75 , 10.875, 11.   , 11.125,\n",
       "       11.25 , 11.375, 11.5  , 11.625, 11.75 , 11.875, 12.   , 12.125,\n",
       "       12.25 , 12.375, 12.5  , 12.625, 12.75 , 12.875, 13.   , 13.125,\n",
       "       13.25 , 13.375, 13.5  , 13.625, 13.75 , 13.875, 14.   , 14.125,\n",
       "       14.25 , 14.375, 14.5  , 14.625, 14.75 , 14.875, 15.   ])"
      ]
     },
     "execution_count": 51,
     "metadata": {},
     "output_type": "execute_result"
    }
   ],
   "source": [
    "df.Y.unique()"
   ]
  },
  {
   "cell_type": "code",
   "execution_count": 60,
   "id": "a48b90fe-2676-4fb5-8809-8cf0265bdef6",
   "metadata": {},
   "outputs": [
    {
     "data": {
      "application/vnd.plotly.v1+json": {
       "config": {
        "plotlyServerURL": "https://plot.ly"
       },
       "data": [
        {
         "type": "surface",
         "x": [
          5,
          6,
          7,
          8,
          9,
          10,
          11,
          12,
          13,
          14,
          15
         ],
         "y": [
          6.25,
          6.375,
          6.5,
          6.625,
          6.75,
          6.875,
          7,
          7.125,
          7.25,
          7.375,
          7.5,
          7.625,
          7.75,
          7.875,
          8,
          8.125,
          8.25,
          8.375,
          8.5,
          8.625,
          8.75,
          8.875,
          9,
          9.125,
          9.25,
          9.375,
          9.5,
          9.625,
          9.75,
          9.875,
          10,
          10.125,
          10.25,
          10.375,
          10.5,
          10.625,
          10.75,
          10.875,
          11,
          11.125,
          11.25,
          11.375,
          11.5,
          11.625,
          11.75,
          11.875,
          12,
          12.125,
          12.25,
          12.375,
          12.5,
          12.625,
          12.75,
          12.875,
          13,
          13.125,
          13.25,
          13.375,
          13.5,
          13.625,
          13.75,
          13.875,
          14,
          14.125,
          14.25,
          14.375,
          14.5,
          14.625,
          14.75,
          14.875,
          15
         ],
         "z": [
          [
           10.36,
           10.2,
           9.76,
           9.54,
           9.24,
           8.99,
           8.76,
           8.57,
           8.38,
           8.21,
           8.07,
           7.95,
           7.82,
           7.72,
           7.62,
           7.53,
           7.4,
           7.37,
           7.27,
           7.21,
           7.12,
           7.06,
           7,
           6.94,
           6.87,
           6.81,
           6.76,
           6.71,
           6.64,
           6.6,
           6.55,
           6.49,
           6.44,
           6.38,
           6.34,
           6.29,
           6.24,
           6.18,
           6.14,
           6.08,
           6.05,
           6,
           5.96,
           5.9,
           5.87,
           5.82,
           5.77,
           5.73,
           5.69,
           5.66,
           5.62,
           5.56,
           5.53,
           5.5,
           5.45,
           5.41,
           5.37,
           5.33,
           5.29,
           5.24,
           5.21,
           5.17,
           5.13,
           5.09,
           5.05,
           5.02,
           4.98,
           4.94,
           4.9,
           4.86,
           4.83
          ],
          [
           10.42,
           10.08,
           9.74,
           9.41,
           9.1,
           8.84,
           8.59,
           8.38,
           8.2,
           8.03,
           7.86,
           7.73,
           7.61,
           7.5,
           7.4,
           7.29,
           7.21,
           7.12,
           7.05,
           6.97,
           6.89,
           6.83,
           6.76,
           6.7,
           6.64,
           6.58,
           6.51,
           6.46,
           6.41,
           6.35,
           6.3,
           6.25,
           6.19,
           6.15,
           6.1,
           6.04,
           6,
           5.95,
           5.91,
           5.85,
           5.81,
           5.76,
           5.72,
           5.68,
           5.63,
           5.58,
           5.54,
           5.5,
           5.46,
           5.43,
           5.38,
           5.33,
           5.31,
           5.26,
           5.22,
           5.19,
           5.14,
           5.1,
           5.06,
           5.02,
           4.99,
           4.95,
           4.91,
           4.87,
           4.84,
           4.8,
           4.76,
           4.73,
           4.69,
           4.65,
           4.61
          ],
          [
           10.27,
           9.93,
           9.58,
           9.25,
           8.98,
           8.71,
           8.48,
           8.27,
           8.08,
           7.91,
           7.75,
           7.61,
           7.49,
           7.39,
           7.29,
           7.18,
           7.09,
           7.01,
           6.92,
           6.86,
           6.78,
           6.72,
           6.65,
           6.59,
           6.52,
           6.46,
           6.41,
           6.355,
           6.299,
           6.242,
           6.195,
           6.141,
           6.096,
           6.034,
           5.984,
           5.938,
           5.887,
           5.843,
           5.8,
           5.749,
           5.707,
           5.665,
           5.614,
           5.568,
           5.527,
           5.484,
           5.447,
           5.403,
           5.361,
           5.319,
           5.279,
           5.235,
           5.206,
           5.165,
           5.124,
           5.083,
           5.053,
           5.01,
           4.978,
           4.938,
           4.906,
           4.866,
           4.823,
           4.784,
           4.759,
           4.718,
           4.664,
           4.641,
           4.609,
           4.571,
           4.532
          ],
          [
           10.12,
           9.769,
           9.443,
           9.135,
           8.852,
           8.605,
           8.377,
           8.17,
           7.985,
           7.823,
           7.676,
           7.536,
           7.42,
           7.305,
           7.201,
           7.108,
           7.023,
           6.938,
           6.856,
           6.789,
           6.715,
           6.653,
           6.583,
           6.524,
           6.466,
           6.403,
           6.351,
           6.287,
           6.233,
           6.188,
           6.13,
           6.076,
           6.033,
           5.979,
           5.927,
           5.887,
           5.835,
           5.788,
           5.74,
           5.699,
           5.654,
           5.605,
           5.562,
           5.521,
           5.48,
           5.438,
           5.395,
           5.355,
           5.314,
           5.273,
           5.233,
           5.196,
           5.159,
           5.116,
           5.078,
           5.037,
           5.01,
           4.963,
           4.934,
           4.894,
           4.862,
           4.824,
           4.784,
           4.753,
           4.712,
           4.68,
           4.64,
           4.609,
           4.572,
           4.537,
           4.503
          ],
          [
           9.999,
           9.651,
           9.325,
           9.035,
           8.766,
           8.512,
           8.287,
           8.092,
           7.916,
           7.762,
           7.607,
           7.477,
           7.363,
           7.259,
           7.154,
           7.062,
           6.976,
           6.897,
           6.812,
           6.739,
           6.674,
           6.603,
           6.541,
           6.478,
           6.424,
           6.363,
           6.308,
           6.255,
           6.195,
           6.153,
           6.092,
           6.048,
           5.996,
           5.944,
           5.903,
           5.851,
           5.801,
           5.757,
           5.716,
           5.664,
           5.623,
           5.58,
           5.539,
           5.488,
           5.444,
           5.414,
           5.373,
           5.327,
           5.291,
           5.247,
           5.207,
           5.169,
           5.138,
           5.094,
           5.058,
           5.027,
           4.986,
           4.956,
           4.915,
           4.884,
           4.851,
           4.812,
           4.779,
           4.74,
           4.704,
           4.666,
           4.638,
           4.605,
           4.565,
           4.536,
           4.494
          ],
          [
           9.884,
           9.548,
           9.234,
           8.946,
           8.683,
           8.441,
           8.227,
           8.034,
           7.859,
           7.706,
           7.562,
           7.438,
           7.323,
           7.218,
           7.119,
           7.026,
           6.942,
           6.859,
           6.788,
           6.714,
           6.643,
           6.579,
           6.518,
           6.455,
           6.394,
           6.341,
           6.288,
           6.226,
           6.175,
           6.122,
           6.072,
           6.028,
           5.978,
           5.926,
           5.883,
           5.833,
           5.79,
           5.738,
           5.698,
           5.653,
           5.605,
           5.561,
           5.519,
           5.46,
           5.439,
           5.397,
           5.357,
           5.319,
           5.286,
           5.236,
           5.205,
           5.161,
           5.123,
           5.092,
           5.059,
           5.02,
           4.989,
           4.947,
           4.919,
           4.885,
           4.845,
           4.807,
           4.773,
           4.743,
           4.703,
           4.675,
           4.633,
           4.603,
           4.572,
           4.532,
           4.501
          ],
          [
           9.811,
           9.463,
           9.152,
           8.868,
           8.614,
           8.381,
           8.165,
           7.983,
           7.811,
           7.665,
           7.523,
           7.4,
           7.288,
           7.185,
           7.093,
           6.999,
           6.917,
           6.835,
           6.761,
           6.689,
           6.628,
           6.556,
           6.493,
           6.441,
           6.376,
           6.327,
           6.266,
           6.212,
           6.162,
           6.111,
           6.058,
           6.017,
           5.965,
           5.913,
           5.872,
           5.82,
           5.778,
           5.727,
           5.686,
           5.644,
           5.594,
           5.563,
           5.513,
           5.472,
           5.43,
           5.389,
           5.35,
           5.316,
           5.275,
           5.236,
           5.203,
           5.162,
           5.132,
           5.09,
           5.062,
           5.02,
           4.99,
           4.948,
           4.918,
           4.888,
           4.847,
           4.817,
           4.776,
           4.746,
           4.715,
           4.685,
           4.649,
           4.611,
           4.573,
           4.544,
           4.506
          ],
          [
           9.722,
           9.378,
           9.084,
           8.799,
           8.547,
           8.322,
           8.121,
           7.937,
           7.773,
           7.631,
           7.499,
           7.376,
           7.263,
           7.16,
           7.068,
           6.984,
           6.893,
           6.821,
           6.749,
           6.676,
           6.615,
           6.542,
           6.481,
           6.429,
           6.365,
           6.316,
           6.264,
           6.202,
           6.164,
           6.108,
           6.057,
           6.004,
           5.954,
           5.91,
           5.862,
           5.82,
           5.765,
           5.728,
           5.68,
           5.636,
           5.595,
           5.554,
           5.514,
           5.471,
           5.428,
           5.39,
           5.354,
           5.316,
           5.274,
           5.243,
           5.203,
           5.173,
           5.133,
           5.093,
           5.062,
           5.032,
           5.001,
           4.961,
           4.93,
           4.889,
           4.853,
           4.825,
           4.787,
           4.758,
           4.72,
           4.686,
           4.652,
           4.618,
           4.584,
           4.54,
           4.506
          ],
          [
           9.629,
           9.317,
           9.015,
           8.742,
           8.499,
           8.275,
           8.083,
           7.901,
           7.747,
           7.605,
           7.472,
           7.349,
           7.247,
           7.145,
           7.052,
           6.96,
           6.888,
           6.806,
           6.734,
           6.662,
           6.601,
           6.539,
           6.477,
           6.415,
           6.363,
           6.302,
           6.25,
           6.199,
           6.155,
           6.095,
           6.054,
           6.002,
           5.951,
           5.901,
           5.861,
           5.809,
           5.767,
           5.726,
           5.685,
           5.633,
           5.593,
           5.551,
           5.509,
           5.467,
           5.427,
           5.397,
           5.355,
           5.316,
           5.285,
           5.244,
           5.213,
           5.173,
           5.142,
           5.111,
           5.071,
           5.035,
           4.997,
           4.969,
           4.93,
           4.893,
           4.858,
           4.823,
           4.789,
           4.755,
           4.72,
           4.686,
           4.652,
           4.618,
           4.584,
           4.549,
           4.506
          ],
          [
           9.55,
           9.256,
           8.964,
           8.701,
           8.458,
           8.245,
           8.052,
           7.88,
           7.718,
           7.575,
           7.453,
           7.33,
           7.228,
           7.126,
           7.033,
           6.952,
           6.87,
           6.798,
           6.725,
           6.654,
           6.592,
           6.53,
           6.468,
           6.416,
           6.355,
           6.303,
           6.253,
           6.201,
           6.15,
           6.098,
           6.049,
           5.997,
           5.956,
           5.904,
           5.861,
           5.812,
           5.771,
           5.719,
           5.686,
           5.637,
           5.594,
           5.553,
           5.513,
           5.472,
           5.432,
           5.41,
           5.361,
           5.32,
           5.289,
           5.249,
           5.219,
           5.183,
           5.145,
           5.106,
           5.077,
           5.042,
           5.007,
           4.972,
           4.937,
           4.902,
           4.858,
           4.823,
           4.789,
           4.754,
           4.72,
           4.686,
           4.652,
           4.618,
           4.585,
           4.54,
           4.506
          ],
          [
           9.534,
           9.2,
           8.917,
           8.654,
           8.422,
           8.21,
           8.018,
           7.855,
           7.692,
           7.56,
           7.438,
           7.316,
           7.213,
           7.121,
           7.029,
           6.947,
           6.865,
           6.794,
           6.722,
           6.65,
           6.588,
           6.527,
           6.465,
           6.404,
           6.351,
           6.3,
           6.249,
           6.2,
           6.149,
           6.097,
           6.047,
           5.995,
           5.953,
           5.901,
           5.859,
           5.819,
           5.766,
           5.727,
           5.683,
           5.645,
           5.603,
           5.553,
           5.522,
           5.481,
           5.441,
           5.399,
           5.371,
           5.333,
           5.295,
           5.256,
           5.217,
           5.182,
           5.147,
           5.111,
           5.077,
           5.041,
           5.007,
           4.972,
           4.937,
           4.902,
           4.857,
           4.825,
           4.799,
           4.755,
           4.72,
           4.686,
           4.653,
           4.618,
           4.584,
           4.54,
           4.503
          ]
         ]
        }
       ],
       "layout": {
        "autosize": false,
        "height": 500,
        "margin": {
         "b": 65,
         "l": 65,
         "r": 50,
         "t": 90
        },
        "scene": {
         "aspectmode": "auto",
         "aspectratio": {
          "x": 1,
          "y": 1,
          "z": 1
         },
         "camera": {
          "center": {
           "x": 0,
           "y": 0,
           "z": 0
          },
          "eye": {
           "x": 1.3592214709586852,
           "y": 1.6343471263496578,
           "z": 0.4110066465125891
          },
          "projection": {
           "type": "perspective"
          },
          "up": {
           "x": 0,
           "y": 0,
           "z": 1
          }
         }
        },
        "template": {
         "data": {
          "bar": [
           {
            "error_x": {
             "color": "#2a3f5f"
            },
            "error_y": {
             "color": "#2a3f5f"
            },
            "marker": {
             "line": {
              "color": "#E5ECF6",
              "width": 0.5
             },
             "pattern": {
              "fillmode": "overlay",
              "size": 10,
              "solidity": 0.2
             }
            },
            "type": "bar"
           }
          ],
          "barpolar": [
           {
            "marker": {
             "line": {
              "color": "#E5ECF6",
              "width": 0.5
             },
             "pattern": {
              "fillmode": "overlay",
              "size": 10,
              "solidity": 0.2
             }
            },
            "type": "barpolar"
           }
          ],
          "carpet": [
           {
            "aaxis": {
             "endlinecolor": "#2a3f5f",
             "gridcolor": "white",
             "linecolor": "white",
             "minorgridcolor": "white",
             "startlinecolor": "#2a3f5f"
            },
            "baxis": {
             "endlinecolor": "#2a3f5f",
             "gridcolor": "white",
             "linecolor": "white",
             "minorgridcolor": "white",
             "startlinecolor": "#2a3f5f"
            },
            "type": "carpet"
           }
          ],
          "choropleth": [
           {
            "colorbar": {
             "outlinewidth": 0,
             "ticks": ""
            },
            "type": "choropleth"
           }
          ],
          "contour": [
           {
            "colorbar": {
             "outlinewidth": 0,
             "ticks": ""
            },
            "colorscale": [
             [
              0,
              "#0d0887"
             ],
             [
              0.1111111111111111,
              "#46039f"
             ],
             [
              0.2222222222222222,
              "#7201a8"
             ],
             [
              0.3333333333333333,
              "#9c179e"
             ],
             [
              0.4444444444444444,
              "#bd3786"
             ],
             [
              0.5555555555555556,
              "#d8576b"
             ],
             [
              0.6666666666666666,
              "#ed7953"
             ],
             [
              0.7777777777777778,
              "#fb9f3a"
             ],
             [
              0.8888888888888888,
              "#fdca26"
             ],
             [
              1,
              "#f0f921"
             ]
            ],
            "type": "contour"
           }
          ],
          "contourcarpet": [
           {
            "colorbar": {
             "outlinewidth": 0,
             "ticks": ""
            },
            "type": "contourcarpet"
           }
          ],
          "heatmap": [
           {
            "colorbar": {
             "outlinewidth": 0,
             "ticks": ""
            },
            "colorscale": [
             [
              0,
              "#0d0887"
             ],
             [
              0.1111111111111111,
              "#46039f"
             ],
             [
              0.2222222222222222,
              "#7201a8"
             ],
             [
              0.3333333333333333,
              "#9c179e"
             ],
             [
              0.4444444444444444,
              "#bd3786"
             ],
             [
              0.5555555555555556,
              "#d8576b"
             ],
             [
              0.6666666666666666,
              "#ed7953"
             ],
             [
              0.7777777777777778,
              "#fb9f3a"
             ],
             [
              0.8888888888888888,
              "#fdca26"
             ],
             [
              1,
              "#f0f921"
             ]
            ],
            "type": "heatmap"
           }
          ],
          "heatmapgl": [
           {
            "colorbar": {
             "outlinewidth": 0,
             "ticks": ""
            },
            "colorscale": [
             [
              0,
              "#0d0887"
             ],
             [
              0.1111111111111111,
              "#46039f"
             ],
             [
              0.2222222222222222,
              "#7201a8"
             ],
             [
              0.3333333333333333,
              "#9c179e"
             ],
             [
              0.4444444444444444,
              "#bd3786"
             ],
             [
              0.5555555555555556,
              "#d8576b"
             ],
             [
              0.6666666666666666,
              "#ed7953"
             ],
             [
              0.7777777777777778,
              "#fb9f3a"
             ],
             [
              0.8888888888888888,
              "#fdca26"
             ],
             [
              1,
              "#f0f921"
             ]
            ],
            "type": "heatmapgl"
           }
          ],
          "histogram": [
           {
            "marker": {
             "pattern": {
              "fillmode": "overlay",
              "size": 10,
              "solidity": 0.2
             }
            },
            "type": "histogram"
           }
          ],
          "histogram2d": [
           {
            "colorbar": {
             "outlinewidth": 0,
             "ticks": ""
            },
            "colorscale": [
             [
              0,
              "#0d0887"
             ],
             [
              0.1111111111111111,
              "#46039f"
             ],
             [
              0.2222222222222222,
              "#7201a8"
             ],
             [
              0.3333333333333333,
              "#9c179e"
             ],
             [
              0.4444444444444444,
              "#bd3786"
             ],
             [
              0.5555555555555556,
              "#d8576b"
             ],
             [
              0.6666666666666666,
              "#ed7953"
             ],
             [
              0.7777777777777778,
              "#fb9f3a"
             ],
             [
              0.8888888888888888,
              "#fdca26"
             ],
             [
              1,
              "#f0f921"
             ]
            ],
            "type": "histogram2d"
           }
          ],
          "histogram2dcontour": [
           {
            "colorbar": {
             "outlinewidth": 0,
             "ticks": ""
            },
            "colorscale": [
             [
              0,
              "#0d0887"
             ],
             [
              0.1111111111111111,
              "#46039f"
             ],
             [
              0.2222222222222222,
              "#7201a8"
             ],
             [
              0.3333333333333333,
              "#9c179e"
             ],
             [
              0.4444444444444444,
              "#bd3786"
             ],
             [
              0.5555555555555556,
              "#d8576b"
             ],
             [
              0.6666666666666666,
              "#ed7953"
             ],
             [
              0.7777777777777778,
              "#fb9f3a"
             ],
             [
              0.8888888888888888,
              "#fdca26"
             ],
             [
              1,
              "#f0f921"
             ]
            ],
            "type": "histogram2dcontour"
           }
          ],
          "mesh3d": [
           {
            "colorbar": {
             "outlinewidth": 0,
             "ticks": ""
            },
            "type": "mesh3d"
           }
          ],
          "parcoords": [
           {
            "line": {
             "colorbar": {
              "outlinewidth": 0,
              "ticks": ""
             }
            },
            "type": "parcoords"
           }
          ],
          "pie": [
           {
            "automargin": true,
            "type": "pie"
           }
          ],
          "scatter": [
           {
            "marker": {
             "colorbar": {
              "outlinewidth": 0,
              "ticks": ""
             }
            },
            "type": "scatter"
           }
          ],
          "scatter3d": [
           {
            "line": {
             "colorbar": {
              "outlinewidth": 0,
              "ticks": ""
             }
            },
            "marker": {
             "colorbar": {
              "outlinewidth": 0,
              "ticks": ""
             }
            },
            "type": "scatter3d"
           }
          ],
          "scattercarpet": [
           {
            "marker": {
             "colorbar": {
              "outlinewidth": 0,
              "ticks": ""
             }
            },
            "type": "scattercarpet"
           }
          ],
          "scattergeo": [
           {
            "marker": {
             "colorbar": {
              "outlinewidth": 0,
              "ticks": ""
             }
            },
            "type": "scattergeo"
           }
          ],
          "scattergl": [
           {
            "marker": {
             "colorbar": {
              "outlinewidth": 0,
              "ticks": ""
             }
            },
            "type": "scattergl"
           }
          ],
          "scattermapbox": [
           {
            "marker": {
             "colorbar": {
              "outlinewidth": 0,
              "ticks": ""
             }
            },
            "type": "scattermapbox"
           }
          ],
          "scatterpolar": [
           {
            "marker": {
             "colorbar": {
              "outlinewidth": 0,
              "ticks": ""
             }
            },
            "type": "scatterpolar"
           }
          ],
          "scatterpolargl": [
           {
            "marker": {
             "colorbar": {
              "outlinewidth": 0,
              "ticks": ""
             }
            },
            "type": "scatterpolargl"
           }
          ],
          "scatterternary": [
           {
            "marker": {
             "colorbar": {
              "outlinewidth": 0,
              "ticks": ""
             }
            },
            "type": "scatterternary"
           }
          ],
          "surface": [
           {
            "colorbar": {
             "outlinewidth": 0,
             "ticks": ""
            },
            "colorscale": [
             [
              0,
              "#0d0887"
             ],
             [
              0.1111111111111111,
              "#46039f"
             ],
             [
              0.2222222222222222,
              "#7201a8"
             ],
             [
              0.3333333333333333,
              "#9c179e"
             ],
             [
              0.4444444444444444,
              "#bd3786"
             ],
             [
              0.5555555555555556,
              "#d8576b"
             ],
             [
              0.6666666666666666,
              "#ed7953"
             ],
             [
              0.7777777777777778,
              "#fb9f3a"
             ],
             [
              0.8888888888888888,
              "#fdca26"
             ],
             [
              1,
              "#f0f921"
             ]
            ],
            "type": "surface"
           }
          ],
          "table": [
           {
            "cells": {
             "fill": {
              "color": "#EBF0F8"
             },
             "line": {
              "color": "white"
             }
            },
            "header": {
             "fill": {
              "color": "#C8D4E3"
             },
             "line": {
              "color": "white"
             }
            },
            "type": "table"
           }
          ]
         },
         "layout": {
          "annotationdefaults": {
           "arrowcolor": "#2a3f5f",
           "arrowhead": 0,
           "arrowwidth": 1
          },
          "autotypenumbers": "strict",
          "coloraxis": {
           "colorbar": {
            "outlinewidth": 0,
            "ticks": ""
           }
          },
          "colorscale": {
           "diverging": [
            [
             0,
             "#8e0152"
            ],
            [
             0.1,
             "#c51b7d"
            ],
            [
             0.2,
             "#de77ae"
            ],
            [
             0.3,
             "#f1b6da"
            ],
            [
             0.4,
             "#fde0ef"
            ],
            [
             0.5,
             "#f7f7f7"
            ],
            [
             0.6,
             "#e6f5d0"
            ],
            [
             0.7,
             "#b8e186"
            ],
            [
             0.8,
             "#7fbc41"
            ],
            [
             0.9,
             "#4d9221"
            ],
            [
             1,
             "#276419"
            ]
           ],
           "sequential": [
            [
             0,
             "#0d0887"
            ],
            [
             0.1111111111111111,
             "#46039f"
            ],
            [
             0.2222222222222222,
             "#7201a8"
            ],
            [
             0.3333333333333333,
             "#9c179e"
            ],
            [
             0.4444444444444444,
             "#bd3786"
            ],
            [
             0.5555555555555556,
             "#d8576b"
            ],
            [
             0.6666666666666666,
             "#ed7953"
            ],
            [
             0.7777777777777778,
             "#fb9f3a"
            ],
            [
             0.8888888888888888,
             "#fdca26"
            ],
            [
             1,
             "#f0f921"
            ]
           ],
           "sequentialminus": [
            [
             0,
             "#0d0887"
            ],
            [
             0.1111111111111111,
             "#46039f"
            ],
            [
             0.2222222222222222,
             "#7201a8"
            ],
            [
             0.3333333333333333,
             "#9c179e"
            ],
            [
             0.4444444444444444,
             "#bd3786"
            ],
            [
             0.5555555555555556,
             "#d8576b"
            ],
            [
             0.6666666666666666,
             "#ed7953"
            ],
            [
             0.7777777777777778,
             "#fb9f3a"
            ],
            [
             0.8888888888888888,
             "#fdca26"
            ],
            [
             1,
             "#f0f921"
            ]
           ]
          },
          "colorway": [
           "#636efa",
           "#EF553B",
           "#00cc96",
           "#ab63fa",
           "#FFA15A",
           "#19d3f3",
           "#FF6692",
           "#B6E880",
           "#FF97FF",
           "#FECB52"
          ],
          "font": {
           "color": "#2a3f5f"
          },
          "geo": {
           "bgcolor": "white",
           "lakecolor": "white",
           "landcolor": "#E5ECF6",
           "showlakes": true,
           "showland": true,
           "subunitcolor": "white"
          },
          "hoverlabel": {
           "align": "left"
          },
          "hovermode": "closest",
          "mapbox": {
           "style": "light"
          },
          "paper_bgcolor": "white",
          "plot_bgcolor": "#E5ECF6",
          "polar": {
           "angularaxis": {
            "gridcolor": "white",
            "linecolor": "white",
            "ticks": ""
           },
           "bgcolor": "#E5ECF6",
           "radialaxis": {
            "gridcolor": "white",
            "linecolor": "white",
            "ticks": ""
           }
          },
          "scene": {
           "xaxis": {
            "backgroundcolor": "#E5ECF6",
            "gridcolor": "white",
            "gridwidth": 2,
            "linecolor": "white",
            "showbackground": true,
            "ticks": "",
            "zerolinecolor": "white"
           },
           "yaxis": {
            "backgroundcolor": "#E5ECF6",
            "gridcolor": "white",
            "gridwidth": 2,
            "linecolor": "white",
            "showbackground": true,
            "ticks": "",
            "zerolinecolor": "white"
           },
           "zaxis": {
            "backgroundcolor": "#E5ECF6",
            "gridcolor": "white",
            "gridwidth": 2,
            "linecolor": "white",
            "showbackground": true,
            "ticks": "",
            "zerolinecolor": "white"
           }
          },
          "shapedefaults": {
           "line": {
            "color": "#2a3f5f"
           }
          },
          "ternary": {
           "aaxis": {
            "gridcolor": "white",
            "linecolor": "white",
            "ticks": ""
           },
           "baxis": {
            "gridcolor": "white",
            "linecolor": "white",
            "ticks": ""
           },
           "bgcolor": "#E5ECF6",
           "caxis": {
            "gridcolor": "white",
            "linecolor": "white",
            "ticks": ""
           }
          },
          "title": {
           "x": 0.05
          },
          "xaxis": {
           "automargin": true,
           "gridcolor": "white",
           "linecolor": "white",
           "ticks": "",
           "title": {
            "standoff": 15
           },
           "zerolinecolor": "white",
           "zerolinewidth": 2
          },
          "yaxis": {
           "automargin": true,
           "gridcolor": "white",
           "linecolor": "white",
           "ticks": "",
           "title": {
            "standoff": 15
           },
           "zerolinecolor": "white",
           "zerolinewidth": 2
          }
         }
        },
        "title": {
         "text": "Mt Bruno Elevation"
        },
        "width": 500
       }
      },
      "image/png": "[encoded data removed]",
      "text/html": [
       "<div>                            <div id=\"cec8ea52-abf1-40b4-9585-4cfe5adc3450\" class=\"plotly-graph-div\" style=\"height:500px; width:500px;\"></div>            <script type=\"text/javascript\">                require([\"plotly\"], function(Plotly) {                    window.PLOTLYENV=window.PLOTLYENV || {};                                    if (document.getElementById(\"cec8ea52-abf1-40b4-9585-4cfe5adc3450\")) {                    Plotly.newPlot(                        \"cec8ea52-abf1-40b4-9585-4cfe5adc3450\",                        [{\"type\":\"surface\",\"x\":[5,6,7,8,9,10,11,12,13,14,15],\"y\":[6.25,6.375,6.5,6.625,6.75,6.875,7.0,7.125,7.25,7.375,7.5,7.625,7.75,7.875,8.0,8.125,8.25,8.375,8.5,8.625,8.75,8.875,9.0,9.125,9.25,9.375,9.5,9.625,9.75,9.875,10.0,10.125,10.25,10.375,10.5,10.625,10.75,10.875,11.0,11.125,11.25,11.375,11.5,11.625,11.75,11.875,12.0,12.125,12.25,12.375,12.5,12.625,12.75,12.875,13.0,13.125,13.25,13.375,13.5,13.625,13.75,13.875,14.0,14.125,14.25,14.375,14.5,14.625,14.75,14.875,15.0],\"z\":[[10.36,10.2,9.76,9.54,9.24,8.99,8.76,8.57,8.38,8.21,8.07,7.95,7.82,7.72,7.62,7.53,7.4,7.37,7.27,7.21,7.12,7.06,7.0,6.94,6.87,6.81,6.76,6.71,6.64,6.6,6.55,6.49,6.44,6.38,6.34,6.29,6.24,6.18,6.14,6.08,6.05,6.0,5.96,5.9,5.87,5.82,5.77,5.73,5.69,5.66,5.62,5.56,5.53,5.5,5.45,5.41,5.37,5.33,5.29,5.24,5.21,5.17,5.13,5.09,5.05,5.02,4.98,4.94,4.9,4.86,4.83],[10.42,10.08,9.74,9.41,9.1,8.84,8.59,8.38,8.2,8.03,7.86,7.73,7.61,7.5,7.4,7.29,7.21,7.12,7.05,6.97,6.89,6.83,6.76,6.7,6.64,6.58,6.51,6.46,6.41,6.35,6.3,6.25,6.19,6.15,6.1,6.04,6.0,5.95,5.91,5.85,5.81,5.76,5.72,5.68,5.63,5.58,5.54,5.5,5.46,5.43,5.38,5.33,5.31,5.26,5.22,5.19,5.14,5.1,5.06,5.02,4.99,4.95,4.91,4.87,4.84,4.8,4.76,4.73,4.69,4.65,4.61],[10.27,9.93,9.58,9.25,8.98,8.71,8.48,8.27,8.08,7.91,7.75,7.61,7.49,7.39,7.29,7.18,7.09,7.01,6.92,6.86,6.78,6.72,6.65,6.59,6.52,6.46,6.41,6.355,6.299,6.242,6.195,6.141,6.096,6.034,5.984,5.938,5.887,5.843,5.8,5.749,5.707,5.665,5.614,5.568,5.527,5.484,5.447,5.403,5.361,5.319,5.279,5.235,5.206,5.165,5.124,5.083,5.053,5.01,4.978,4.938,4.906,4.866,4.823,4.784,4.759,4.718,4.664,4.641,4.609,4.571,4.532],[10.12,9.769,9.443,9.135,8.852,8.605,8.377,8.17,7.985,7.823,7.676,7.536,7.42,7.305,7.201,7.108,7.023,6.938,6.856,6.789,6.715,6.653,6.583,6.524,6.466,6.403,6.351,6.287,6.233,6.188,6.13,6.076,6.033,5.979,5.927,5.887,5.835,5.788,5.74,5.699,5.654,5.605,5.562,5.521,5.48,5.438,5.395,5.355,5.314,5.273,5.233,5.196,5.159,5.116,5.078,5.037,5.01,4.963,4.934,4.894,4.862,4.824,4.784,4.753,4.712,4.68,4.64,4.609,4.572,4.537,4.503],[9.999,9.651,9.325,9.035,8.766,8.512,8.287,8.092,7.916,7.762,7.607,7.477,7.363,7.259,7.154,7.062,6.976,6.897,6.812,6.739,6.674,6.603,6.541,6.478,6.424,6.363,6.308,6.255,6.195,6.153,6.092,6.048,5.996,5.944,5.903,5.851,5.801,5.757,5.716,5.664,5.623,5.58,5.539,5.488,5.444,5.414,5.373,5.327,5.291,5.247,5.207,5.169,5.138,5.094,5.058,5.027,4.986,4.956,4.915,4.884,4.851,4.812,4.779,4.74,4.704,4.666,4.638,4.605,4.565,4.536,4.494],[9.884,9.548,9.234,8.946,8.683,8.441,8.227,8.034,7.859,7.706,7.562,7.438,7.323,7.218,7.119,7.026,6.942,6.859,6.788,6.714,6.643,6.579,6.518,6.455,6.394,6.341,6.288,6.226,6.175,6.122,6.072,6.028,5.978,5.926,5.883,5.833,5.79,5.738,5.698,5.653,5.605,5.561,5.519,5.46,5.439,5.397,5.357,5.319,5.286,5.236,5.205,5.161,5.123,5.092,5.059,5.02,4.989,4.947,4.919,4.885,4.845,4.807,4.773,4.743,4.703,4.675,4.633,4.603,4.572,4.532,4.501],[9.811,9.463,9.152,8.868,8.614,8.381,8.165,7.983,7.811,7.665,7.523,7.4,7.288,7.185,7.093,6.999,6.917,6.835,6.761,6.689,6.628,6.556,6.493,6.441,6.376,6.327,6.266,6.212,6.162,6.111,6.058,6.017,5.965,5.913,5.872,5.82,5.778,5.727,5.686,5.644,5.594,5.563,5.513,5.472,5.43,5.389,5.35,5.316,5.275,5.236,5.203,5.162,5.132,5.09,5.062,5.02,4.99,4.948,4.918,4.888,4.847,4.817,4.776,4.746,4.715,4.685,4.649,4.611,4.573,4.544,4.506],[9.722,9.378,9.084,8.799,8.547,8.322,8.121,7.937,7.773,7.631,7.499,7.376,7.263,7.16,7.068,6.984,6.893,6.821,6.749,6.676,6.615,6.542,6.481,6.429,6.365,6.316,6.264,6.202,6.164,6.108,6.057,6.004,5.954,5.91,5.862,5.82,5.765,5.728,5.68,5.636,5.595,5.554,5.514,5.471,5.428,5.39,5.354,5.316,5.274,5.243,5.203,5.173,5.133,5.093,5.062,5.032,5.001,4.961,4.93,4.889,4.853,4.825,4.787,4.758,4.72,4.686,4.652,4.618,4.584,4.54,4.506],[9.629,9.317,9.015,8.742,8.499,8.275,8.083,7.901,7.747,7.605,7.472,7.349,7.247,7.145,7.052,6.96,6.888,6.806,6.734,6.662,6.601,6.539,6.477,6.415,6.363,6.302,6.25,6.199,6.155,6.095,6.054,6.002,5.951,5.901,5.861,5.809,5.767,5.726,5.685,5.633,5.593,5.551,5.509,5.467,5.427,5.397,5.355,5.316,5.285,5.244,5.213,5.173,5.142,5.111,5.071,5.035,4.997,4.969,4.93,4.893,4.858,4.823,4.789,4.755,4.72,4.686,4.652,4.618,4.584,4.549,4.506],[9.55,9.256,8.964,8.701,8.458,8.245,8.052,7.88,7.718,7.575,7.453,7.33,7.228,7.126,7.033,6.952,6.87,6.798,6.725,6.654,6.592,6.53,6.468,6.416,6.355,6.303,6.253,6.201,6.15,6.098,6.049,5.997,5.956,5.904,5.861,5.812,5.771,5.719,5.686,5.637,5.594,5.553,5.513,5.472,5.432,5.41,5.361,5.32,5.289,5.249,5.219,5.183,5.145,5.106,5.077,5.042,5.007,4.972,4.937,4.902,4.858,4.823,4.789,4.754,4.72,4.686,4.652,4.618,4.585,4.54,4.506],[9.534,9.2,8.917,8.654,8.422,8.21,8.018,7.855,7.692,7.56,7.438,7.316,7.213,7.121,7.029,6.947,6.865,6.794,6.722,6.65,6.588,6.527,6.465,6.404,6.351,6.3,6.249,6.2,6.149,6.097,6.047,5.995,5.953,5.901,5.859,5.819,5.766,5.727,5.683,5.645,5.603,5.553,5.522,5.481,5.441,5.399,5.371,5.333,5.295,5.256,5.217,5.182,5.147,5.111,5.077,5.041,5.007,4.972,4.937,4.902,4.857,4.825,4.799,4.755,4.72,4.686,4.653,4.618,4.584,4.54,4.503]]}],                        {\"autosize\":false,\"height\":500,\"margin\":{\"b\":65,\"l\":65,\"r\":50,\"t\":90},\"template\":{\"data\":{\"bar\":[{\"error_x\":{\"color\":\"#2a3f5f\"},\"error_y\":{\"color\":\"#2a3f5f\"},\"marker\":{\"line\":{\"color\":\"#E5ECF6\",\"width\":0.5},\"pattern\":{\"fillmode\":\"overlay\",\"size\":10,\"solidity\":0.2}},\"type\":\"bar\"}],\"barpolar\":[{\"marker\":{\"line\":{\"color\":\"#E5ECF6\",\"width\":0.5},\"pattern\":{\"fillmode\":\"overlay\",\"size\":10,\"solidity\":0.2}},\"type\":\"barpolar\"}],\"carpet\":[{\"aaxis\":{\"endlinecolor\":\"#2a3f5f\",\"gridcolor\":\"white\",\"linecolor\":\"white\",\"minorgridcolor\":\"white\",\"startlinecolor\":\"#2a3f5f\"},\"baxis\":{\"endlinecolor\":\"#2a3f5f\",\"gridcolor\":\"white\",\"linecolor\":\"white\",\"minorgridcolor\":\"white\",\"startlinecolor\":\"#2a3f5f\"},\"type\":\"carpet\"}],\"choropleth\":[{\"colorbar\":{\"outlinewidth\":0,\"ticks\":\"\"},\"type\":\"choropleth\"}],\"contour\":[{\"colorbar\":{\"outlinewidth\":0,\"ticks\":\"\"},\"colorscale\":[[0.0,\"#0d0887\"],[0.1111111111111111,\"#46039f\"],[0.2222222222222222,\"#7201a8\"],[0.3333333333333333,\"#9c179e\"],[0.4444444444444444,\"#bd3786\"],[0.5555555555555556,\"#d8576b\"],[0.6666666666666666,\"#ed7953\"],[0.7777777777777778,\"#fb9f3a\"],[0.8888888888888888,\"#fdca26\"],[1.0,\"#f0f921\"]],\"type\":\"contour\"}],\"contourcarpet\":[{\"colorbar\":{\"outlinewidth\":0,\"ticks\":\"\"},\"type\":\"contourcarpet\"}],\"heatmap\":[{\"colorbar\":{\"outlinewidth\":0,\"ticks\":\"\"},\"colorscale\":[[0.0,\"#0d0887\"],[0.1111111111111111,\"#46039f\"],[0.2222222222222222,\"#7201a8\"],[0.3333333333333333,\"#9c179e\"],[0.4444444444444444,\"#bd3786\"],[0.5555555555555556,\"#d8576b\"],[0.6666666666666666,\"#ed7953\"],[0.7777777777777778,\"#fb9f3a\"],[0.8888888888888888,\"#fdca26\"],[1.0,\"#f0f921\"]],\"type\":\"heatmap\"}],\"heatmapgl\":[{\"colorbar\":{\"outlinewidth\":0,\"ticks\":\"\"},\"colorscale\":[[0.0,\"#0d0887\"],[0.1111111111111111,\"#46039f\"],[0.2222222222222222,\"#7201a8\"],[0.3333333333333333,\"#9c179e\"],[0.4444444444444444,\"#bd3786\"],[0.5555555555555556,\"#d8576b\"],[0.6666666666666666,\"#ed7953\"],[0.7777777777777778,\"#fb9f3a\"],[0.8888888888888888,\"#fdca26\"],[1.0,\"#f0f921\"]],\"type\":\"heatmapgl\"}],\"histogram\":[{\"marker\":{\"pattern\":{\"fillmode\":\"overlay\",\"size\":10,\"solidity\":0.2}},\"type\":\"histogram\"}],\"histogram2d\":[{\"colorbar\":{\"outlinewidth\":0,\"ticks\":\"\"},\"colorscale\":[[0.0,\"#0d0887\"],[0.1111111111111111,\"#46039f\"],[0.2222222222222222,\"#7201a8\"],[0.3333333333333333,\"#9c179e\"],[0.4444444444444444,\"#bd3786\"],[0.5555555555555556,\"#d8576b\"],[0.6666666666666666,\"#ed7953\"],[0.7777777777777778,\"#fb9f3a\"],[0.8888888888888888,\"#fdca26\"],[1.0,\"#f0f921\"]],\"type\":\"histogram2d\"}],\"histogram2dcontour\":[{\"colorbar\":{\"outlinewidth\":0,\"ticks\":\"\"},\"colorscale\":[[0.0,\"#0d0887\"],[0.1111111111111111,\"#46039f\"],[0.2222222222222222,\"#7201a8\"],[0.3333333333333333,\"#9c179e\"],[0.4444444444444444,\"#bd3786\"],[0.5555555555555556,\"#d8576b\"],[0.6666666666666666,\"#ed7953\"],[0.7777777777777778,\"#fb9f3a\"],[0.8888888888888888,\"#fdca26\"],[1.0,\"#f0f921\"]],\"type\":\"histogram2dcontour\"}],\"mesh3d\":[{\"colorbar\":{\"outlinewidth\":0,\"ticks\":\"\"},\"type\":\"mesh3d\"}],\"parcoords\":[{\"line\":{\"colorbar\":{\"outlinewidth\":0,\"ticks\":\"\"}},\"type\":\"parcoords\"}],\"pie\":[{\"automargin\":true,\"type\":\"pie\"}],\"scatter\":[{\"marker\":{\"colorbar\":{\"outlinewidth\":0,\"ticks\":\"\"}},\"type\":\"scatter\"}],\"scatter3d\":[{\"line\":{\"colorbar\":{\"outlinewidth\":0,\"ticks\":\"\"}},\"marker\":{\"colorbar\":{\"outlinewidth\":0,\"ticks\":\"\"}},\"type\":\"scatter3d\"}],\"scattercarpet\":[{\"marker\":{\"colorbar\":{\"outlinewidth\":0,\"ticks\":\"\"}},\"type\":\"scattercarpet\"}],\"scattergeo\":[{\"marker\":{\"colorbar\":{\"outlinewidth\":0,\"ticks\":\"\"}},\"type\":\"scattergeo\"}],\"scattergl\":[{\"marker\":{\"colorbar\":{\"outlinewidth\":0,\"ticks\":\"\"}},\"type\":\"scattergl\"}],\"scattermapbox\":[{\"marker\":{\"colorbar\":{\"outlinewidth\":0,\"ticks\":\"\"}},\"type\":\"scattermapbox\"}],\"scatterpolar\":[{\"marker\":{\"colorbar\":{\"outlinewidth\":0,\"ticks\":\"\"}},\"type\":\"scatterpolar\"}],\"scatterpolargl\":[{\"marker\":{\"colorbar\":{\"outlinewidth\":0,\"ticks\":\"\"}},\"type\":\"scatterpolargl\"}],\"scatterternary\":[{\"marker\":{\"colorbar\":{\"outlinewidth\":0,\"ticks\":\"\"}},\"type\":\"scatterternary\"}],\"surface\":[{\"colorbar\":{\"outlinewidth\":0,\"ticks\":\"\"},\"colorscale\":[[0.0,\"#0d0887\"],[0.1111111111111111,\"#46039f\"],[0.2222222222222222,\"#7201a8\"],[0.3333333333333333,\"#9c179e\"],[0.4444444444444444,\"#bd3786\"],[0.5555555555555556,\"#d8576b\"],[0.6666666666666666,\"#ed7953\"],[0.7777777777777778,\"#fb9f3a\"],[0.8888888888888888,\"#fdca26\"],[1.0,\"#f0f921\"]],\"type\":\"surface\"}],\"table\":[{\"cells\":{\"fill\":{\"color\":\"#EBF0F8\"},\"line\":{\"color\":\"white\"}},\"header\":{\"fill\":{\"color\":\"#C8D4E3\"},\"line\":{\"color\":\"white\"}},\"type\":\"table\"}]},\"layout\":{\"annotationdefaults\":{\"arrowcolor\":\"#2a3f5f\",\"arrowhead\":0,\"arrowwidth\":1},\"autotypenumbers\":\"strict\",\"coloraxis\":{\"colorbar\":{\"outlinewidth\":0,\"ticks\":\"\"}},\"colorscale\":{\"diverging\":[[0,\"#8e0152\"],[0.1,\"#c51b7d\"],[0.2,\"#de77ae\"],[0.3,\"#f1b6da\"],[0.4,\"#fde0ef\"],[0.5,\"#f7f7f7\"],[0.6,\"#e6f5d0\"],[0.7,\"#b8e186\"],[0.8,\"#7fbc41\"],[0.9,\"#4d9221\"],[1,\"#276419\"]],\"sequential\":[[0.0,\"#0d0887\"],[0.1111111111111111,\"#46039f\"],[0.2222222222222222,\"#7201a8\"],[0.3333333333333333,\"#9c179e\"],[0.4444444444444444,\"#bd3786\"],[0.5555555555555556,\"#d8576b\"],[0.6666666666666666,\"#ed7953\"],[0.7777777777777778,\"#fb9f3a\"],[0.8888888888888888,\"#fdca26\"],[1.0,\"#f0f921\"]],\"sequentialminus\":[[0.0,\"#0d0887\"],[0.1111111111111111,\"#46039f\"],[0.2222222222222222,\"#7201a8\"],[0.3333333333333333,\"#9c179e\"],[0.4444444444444444,\"#bd3786\"],[0.5555555555555556,\"#d8576b\"],[0.6666666666666666,\"#ed7953\"],[0.7777777777777778,\"#fb9f3a\"],[0.8888888888888888,\"#fdca26\"],[1.0,\"#f0f921\"]]},\"colorway\":[\"#636efa\",\"#EF553B\",\"#00cc96\",\"#ab63fa\",\"#FFA15A\",\"#19d3f3\",\"#FF6692\",\"#B6E880\",\"#FF97FF\",\"#FECB52\"],\"font\":{\"color\":\"#2a3f5f\"},\"geo\":{\"bgcolor\":\"white\",\"lakecolor\":\"white\",\"landcolor\":\"#E5ECF6\",\"showlakes\":true,\"showland\":true,\"subunitcolor\":\"white\"},\"hoverlabel\":{\"align\":\"left\"},\"hovermode\":\"closest\",\"mapbox\":{\"style\":\"light\"},\"paper_bgcolor\":\"white\",\"plot_bgcolor\":\"#E5ECF6\",\"polar\":{\"angularaxis\":{\"gridcolor\":\"white\",\"linecolor\":\"white\",\"ticks\":\"\"},\"bgcolor\":\"#E5ECF6\",\"radialaxis\":{\"gridcolor\":\"white\",\"linecolor\":\"white\",\"ticks\":\"\"}},\"scene\":{\"xaxis\":{\"backgroundcolor\":\"#E5ECF6\",\"gridcolor\":\"white\",\"gridwidth\":2,\"linecolor\":\"white\",\"showbackground\":true,\"ticks\":\"\",\"zerolinecolor\":\"white\"},\"yaxis\":{\"backgroundcolor\":\"#E5ECF6\",\"gridcolor\":\"white\",\"gridwidth\":2,\"linecolor\":\"white\",\"showbackground\":true,\"ticks\":\"\",\"zerolinecolor\":\"white\"},\"zaxis\":{\"backgroundcolor\":\"#E5ECF6\",\"gridcolor\":\"white\",\"gridwidth\":2,\"linecolor\":\"white\",\"showbackground\":true,\"ticks\":\"\",\"zerolinecolor\":\"white\"}},\"shapedefaults\":{\"line\":{\"color\":\"#2a3f5f\"}},\"ternary\":{\"aaxis\":{\"gridcolor\":\"white\",\"linecolor\":\"white\",\"ticks\":\"\"},\"baxis\":{\"gridcolor\":\"white\",\"linecolor\":\"white\",\"ticks\":\"\"},\"bgcolor\":\"#E5ECF6\",\"caxis\":{\"gridcolor\":\"white\",\"linecolor\":\"white\",\"ticks\":\"\"}},\"title\":{\"x\":0.05},\"xaxis\":{\"automargin\":true,\"gridcolor\":\"white\",\"linecolor\":\"white\",\"ticks\":\"\",\"title\":{\"standoff\":15},\"zerolinecolor\":\"white\",\"zerolinewidth\":2},\"yaxis\":{\"automargin\":true,\"gridcolor\":\"white\",\"linecolor\":\"white\",\"ticks\":\"\",\"title\":{\"standoff\":15},\"zerolinecolor\":\"white\",\"zerolinewidth\":2}}},\"title\":{\"text\":\"Mt Bruno Elevation\"},\"width\":500},                        {\"responsive\": true}                    ).then(function(){\n",
       "                            \n",
       "var gd = document.getElementById('cec8ea52-abf1-40b4-9585-4cfe5adc3450');\n",
       "var x = new MutationObserver(function (mutations, observer) {{\n",
       "        var display = window.getComputedStyle(gd).display;\n",
       "        if (!display || display === 'none') {{\n",
       "            console.log([gd, 'removed!']);\n",
       "            Plotly.purge(gd);\n",
       "            observer.disconnect();\n",
       "        }}\n",
       "}});\n",
       "\n",
       "// Listen for the removal of the full notebook cells\n",
       "var notebookContainer = gd.closest('#notebook-container');\n",
       "if (notebookContainer) {{\n",
       "    x.observe(notebookContainer, {childList: true});\n",
       "}}\n",
       "\n",
       "// Listen for the clearing of the current output cell\n",
       "var outputEl = gd.closest('.output');\n",
       "if (outputEl) {{\n",
       "    x.observe(outputEl, {childList: true});\n",
       "}}\n",
       "\n",
       "                        })                };                });            </script>        </div>"
      ]
     },
     "metadata": {},
     "output_type": "display_data"
    }
   ],
   "source": [
    "x = df.X.unique()\n",
    "y = df.Y.unique()\n",
    "z = df.Z.values.reshape(len(df.X.unique()), len(df.Y.unique()))\n",
    "\n",
    "import pandas as pd\n",
    "import plotly.graph_objects as go\n",
    "\n",
    "# Read data from a csv\n",
    "z_data = pd.read_csv(\n",
    "    \"https://raw.githubusercontent.com/plotly/datasets/master/api_docs/mt_bruno_elevation.csv\"\n",
    ")\n",
    "\n",
    "fig = go.Figure(data=[go.Surface(z=z, x=x, y=y)])\n",
    "\n",
    "fig.update_layout(\n",
    "    title=\"Mt Bruno Elevation\",\n",
    "    autosize=False,\n",
    "    width=500,\n",
    "    height=500,\n",
    "    margin=dict(l=65, r=50, b=65, t=90),\n",
    ")\n",
    "\n",
    "fig.show()"
   ]
  },
  {
   "cell_type": "code",
   "execution_count": 33,
   "id": "27f5154d-bfc0-49e8-a785-fde38a449a70",
   "metadata": {},
   "outputs": [],
   "source": [
    "import numpy as np\n",
    "\n",
    "data = pd.read_csv(\n",
    "    \"https://raw.githubusercontent.com/plotly/datasets/master/api_docs/mt_bruno_elevation.csv\"\n",
    ")\n",
    "z = z_data.values\n",
    "sh_0, sh_1 = z.shape\n",
    "x, y = np.linspace(0, 1, sh_0), np.linspace(0, 1, sh_1)"
   ]
  },
  {
   "cell_type": "code",
   "execution_count": 34,
   "id": "45a5bc3f-0179-4f6d-864c-bf4b7e15283b",
   "metadata": {},
   "outputs": [
    {
     "data": {
      "text/plain": [
       "(array([0.        , 0.04166667, 0.08333333, 0.125     , 0.16666667,\n",
       "        0.20833333, 0.25      , 0.29166667, 0.33333333, 0.375     ,\n",
       "        0.41666667, 0.45833333, 0.5       , 0.54166667, 0.58333333,\n",
       "        0.625     , 0.66666667, 0.70833333, 0.75      , 0.79166667,\n",
       "        0.83333333, 0.875     , 0.91666667, 0.95833333, 1.        ]),\n",
       " array([0.        , 0.04166667, 0.08333333, 0.125     , 0.16666667,\n",
       "        0.20833333, 0.25      , 0.29166667, 0.33333333, 0.375     ,\n",
       "        0.41666667, 0.45833333, 0.5       , 0.54166667, 0.58333333,\n",
       "        0.625     , 0.66666667, 0.70833333, 0.75      , 0.79166667,\n",
       "        0.83333333, 0.875     , 0.91666667, 0.95833333, 1.        ]))"
      ]
     },
     "execution_count": 34,
     "metadata": {},
     "output_type": "execute_result"
    }
   ],
   "source": [
    "x, y"
   ]
  },
  {
   "cell_type": "code",
   "execution_count": null,
   "id": "6efe9d0a-48b7-4a12-b996-32f0340d459b",
   "metadata": {},
   "outputs": [],
   "source": []
  }
 ],
 "metadata": {
  "kernelspec": {
   "display_name": "Python 3",
   "language": "python",
   "name": "python3"
  },
  "language_info": {
   "codemirror_mode": {
    "name": "ipython",
    "version": 3
   },
   "file_extension": ".py",
   "mimetype": "text/x-python",
   "name": "python",
   "nbconvert_exporter": "python",
   "pygments_lexer": "ipython3",
   "version": "3.9.4"
  }
 },
 "nbformat": 4,
 "nbformat_minor": 5
}
